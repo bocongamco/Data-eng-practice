{
 "cells": [
  {
   "cell_type": "markdown",
   "id": "a8c103ce-ef2c-46a6-9b09-30b0fe396e9c",
   "metadata": {},
   "source": [
    "## Import important library"
   ]
  },
  {
   "cell_type": "code",
   "execution_count": 2,
   "id": "058adfb2-6e82-47a5-a978-01c138ac5ad1",
   "metadata": {},
   "outputs": [],
   "source": [
    "import pandas as pd \n"
   ]
  },
  {
   "cell_type": "markdown",
   "id": "3ed146fd-370d-4fb1-9b7c-d1e2f64def73",
   "metadata": {},
   "source": [
    "# Read data file"
   ]
  },
  {
   "cell_type": "code",
   "execution_count": 9,
   "id": "c8284eb6-3247-49a4-a92b-16dfdb8972a8",
   "metadata": {},
   "outputs": [
    {
     "name": "stderr",
     "output_type": "stream",
     "text": [
      "/var/folders/7c/b0cqcp4s78z2xb6x7xsyhnt80000gn/T/ipykernel_17653/2414767396.py:1: DtypeWarning: Columns (76) have mixed types. Specify dtype option on import or set low_memory=False.\n",
      "  raw_file = pd.read_csv('fifa21 raw data v2.csv')\n"
     ]
    }
   ],
   "source": [
    "raw_file = pd.read_csv('fifa21-raw-data-v2.csv')"
   ]
  }
 ],
 "metadata": {
  "kernelspec": {
   "display_name": "Python 3 (ipykernel)",
   "language": "python",
   "name": "python3"
  },
  "language_info": {
   "codemirror_mode": {
    "name": "ipython",
    "version": 3
   },
   "file_extension": ".py",
   "mimetype": "text/x-python",
   "name": "python",
   "nbconvert_exporter": "python",
   "pygments_lexer": "ipython3",
   "version": "3.11.7"
  }
 },
 "nbformat": 4,
 "nbformat_minor": 5
}
